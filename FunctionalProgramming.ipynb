{
  "nbformat": 4,
  "nbformat_minor": 0,
  "metadata": {
    "kernelspec": {
      "display_name": "Python 3",
      "language": "python",
      "name": "python3"
    },
    "language_info": {
      "codemirror_mode": {
        "name": "ipython",
        "version": 3
      },
      "file_extension": ".py",
      "mimetype": "text/x-python",
      "name": "python",
      "nbconvert_exporter": "python",
      "pygments_lexer": "ipython3",
      "version": "3.8.5"
    },
    "colab": {
      "name": "FunctionalProgramming.ipynb",
      "provenance": [],
      "toc_visible": true
    }
  },
  "cells": [
    {
      "cell_type": "markdown",
      "metadata": {
        "id": "d8e7QmT7ObiP"
      },
      "source": [
        "## Example 1"
      ]
    },
    {
      "cell_type": "code",
      "metadata": {
        "id": "3kxV5CMYObiR"
      },
      "source": [
        "data = [1,2,3,4,5,6]"
      ],
      "execution_count": null,
      "outputs": []
    },
    {
      "cell_type": "code",
      "metadata": {
        "id": "hYzMG-msObiV"
      },
      "source": [
        "res = []\n",
        "for i in range(len(data)):\n",
        "    res.append(data[i]*2)"
      ],
      "execution_count": null,
      "outputs": []
    },
    {
      "cell_type": "code",
      "metadata": {
        "id": "G6uzpeQLObiZ",
        "outputId": "4977e10a-fe84-46b7-807c-684b34b2e677"
      },
      "source": [
        "res"
      ],
      "execution_count": null,
      "outputs": [
        {
          "output_type": "execute_result",
          "data": {
            "text/plain": [
              "[2, 4, 6, 8, 10, 12]"
            ]
          },
          "metadata": {
            "tags": []
          },
          "execution_count": 3
        }
      ]
    },
    {
      "cell_type": "code",
      "metadata": {
        "id": "ulj6UlpNObif",
        "outputId": "a470bf74-c732-4a7b-ee85-f0894318d236"
      },
      "source": [
        "res = []\n",
        "for n in data:\n",
        "    res.append(n * 2)\n",
        "res"
      ],
      "execution_count": null,
      "outputs": [
        {
          "output_type": "execute_result",
          "data": {
            "text/plain": [
              "[2, 4, 6, 8, 10, 12]"
            ]
          },
          "metadata": {
            "tags": []
          },
          "execution_count": 6
        }
      ]
    },
    {
      "cell_type": "code",
      "metadata": {
        "id": "Dp03_RlpObik",
        "outputId": "f31c9304-43ed-4bb4-a4ba-a34a46e86154"
      },
      "source": [
        "res2 = [ n*2 for n in data]\n",
        "res2"
      ],
      "execution_count": null,
      "outputs": [
        {
          "output_type": "execute_result",
          "data": {
            "text/plain": [
              "[2, 4, 6, 8, 10, 12]"
            ]
          },
          "metadata": {
            "tags": []
          },
          "execution_count": 7
        }
      ]
    },
    {
      "cell_type": "markdown",
      "metadata": {
        "id": "sJuZ38X4Obin"
      },
      "source": [
        "常用的函数式编程函数：map，filter，reduce  \n",
        "**map**"
      ]
    },
    {
      "cell_type": "code",
      "metadata": {
        "id": "oLmKAXxqObio",
        "outputId": "71d3a2cd-9101-47b5-f205-82b57dcd825b"
      },
      "source": [
        "def doubled(n):\n",
        "    return n * 2\n",
        "\n",
        "res3 = map(doubled,data)\n",
        "res3 = list(res3)\n",
        "res3"
      ],
      "execution_count": null,
      "outputs": [
        {
          "output_type": "execute_result",
          "data": {
            "text/plain": [
              "[2, 4, 6, 8, 10, 12]"
            ]
          },
          "metadata": {
            "tags": []
          },
          "execution_count": 10
        }
      ]
    },
    {
      "cell_type": "markdown",
      "metadata": {
        "id": "TVuISZtLObit"
      },
      "source": [
        "## Example2"
      ]
    },
    {
      "cell_type": "code",
      "metadata": {
        "id": "ki03UDepObit"
      },
      "source": [
        "data = [\n",
        "    {\"city\":\"Beijing\", \"temp\":20.8},\n",
        "    {\"city\":\"Changsha\", \"temp\":22.4},\n",
        "    {\"city\":\"Chongqing\", \"temp\":22.8},\n",
        "    {\"city\":\"Guangzhou\", \"temp\":20.8},\n",
        "    {\"city\":\"Shanghai\", \"temp\":25.1},\n",
        "    {\"city\":\"HongKong\", \"temp\":25.9}\n",
        "]"
      ],
      "execution_count": null,
      "outputs": []
    },
    {
      "cell_type": "code",
      "metadata": {
        "id": "VIVI2pgHObiy",
        "outputId": "e1fac5c4-0309-4c21-f1f4-a647d7cf1183"
      },
      "source": [
        "res1 = []\n",
        "\n",
        "for item in data:\n",
        "    new_item = item.copy()\n",
        "    new_item[\"temp\"] = item[\"temp\"] * 9.0 / 5.0 + 32.0\n",
        "    res1.append(new_item)\n",
        "    \n",
        "res1"
      ],
      "execution_count": null,
      "outputs": [
        {
          "output_type": "execute_result",
          "data": {
            "text/plain": [
              "[{'city': 'Beijing', 'temp': 69.44},\n",
              " {'city': 'Changsha', 'temp': 72.32},\n",
              " {'city': 'Chongqing', 'temp': 73.04},\n",
              " {'city': 'Guangzhou', 'temp': 69.44},\n",
              " {'city': 'Shanghai', 'temp': 77.18},\n",
              " {'city': 'HongKong', 'temp': 78.62}]"
            ]
          },
          "metadata": {
            "tags": []
          },
          "execution_count": 13
        }
      ]
    },
    {
      "cell_type": "code",
      "metadata": {
        "id": "9mE4wFRKObi1",
        "outputId": "682381a7-37d4-42c5-cc28-de00cd27b300"
      },
      "source": [
        "# 丢失城市信息\n",
        "res2 = [ item[\"temp\"] * 9.0 / 5.0 + 32.0 for item in data ]\n",
        "res2"
      ],
      "execution_count": null,
      "outputs": [
        {
          "output_type": "execute_result",
          "data": {
            "text/plain": [
              "[69.44, 72.32, 73.04, 69.44, 77.18, 78.62]"
            ]
          },
          "metadata": {
            "tags": []
          },
          "execution_count": 14
        }
      ]
    },
    {
      "cell_type": "code",
      "metadata": {
        "id": "R93wUS0PObi4",
        "outputId": "7cae8fec-5bd1-41a0-8ccb-da82965e9073"
      },
      "source": [
        "def c_to_f(item):\n",
        "    item[\"temp\"] = item[\"temp\"] * 9.0 / 5.0 + 32.0\n",
        "    return item\n",
        "\n",
        "res2 = [c_to_f(item) for item in data]\n",
        "res2"
      ],
      "execution_count": null,
      "outputs": [
        {
          "output_type": "execute_result",
          "data": {
            "text/plain": [
              "[{'city': 'Beijing', 'temp': 69.44},\n",
              " {'city': 'Changsha', 'temp': 72.32},\n",
              " {'city': 'Chongqing', 'temp': 73.04},\n",
              " {'city': 'Guangzhou', 'temp': 69.44},\n",
              " {'city': 'Shanghai', 'temp': 77.18},\n",
              " {'city': 'HongKong', 'temp': 78.62}]"
            ]
          },
          "metadata": {
            "tags": []
          },
          "execution_count": 15
        }
      ]
    },
    {
      "cell_type": "code",
      "metadata": {
        "id": "wcRlNrhkObi8",
        "outputId": "cf83ff17-939f-4fdf-fd80-2d3be5f37777"
      },
      "source": [
        "# 随着运行次数增加 数据在增大\n",
        "def c_to_f(item):\n",
        "    item[\"temp\"] = item[\"temp\"] * 9.0 / 5.0 + 32.0\n",
        "    return item\n",
        "\n",
        "res2 = [c_to_f(item) for item in data]\n",
        "res2"
      ],
      "execution_count": null,
      "outputs": [
        {
          "output_type": "execute_result",
          "data": {
            "text/plain": [
              "[{'city': 'Beijing', 'temp': 598.2540799999999},\n",
              " {'city': 'Changsha', 'temp': 615.0502399999999},\n",
              " {'city': 'Chongqing', 'temp': 619.24928},\n",
              " {'city': 'Guangzhou', 'temp': 598.2540799999999},\n",
              " {'city': 'Shanghai', 'temp': 643.3937600000002},\n",
              " {'city': 'HongKong', 'temp': 651.7918400000001}]"
            ]
          },
          "metadata": {
            "tags": []
          },
          "execution_count": 18
        }
      ]
    },
    {
      "cell_type": "code",
      "metadata": {
        "id": "j3KSR6jYObjA",
        "outputId": "ac522632-ef2d-4bd0-c9a8-49ca846e1709"
      },
      "source": [
        "def c_to_f(item):\n",
        "    new_item = item.copy()\n",
        "    new_item[\"temp\"] = item[\"temp\"] * 9.0 / 5.0 + 32.0\n",
        "    return new_item\n",
        "\n",
        "res2 = [c_to_f(item) for item in data]\n",
        "res2"
      ],
      "execution_count": null,
      "outputs": [
        {
          "output_type": "execute_result",
          "data": {
            "text/plain": [
              "[{'city': 'Beijing', 'temp': 69.44},\n",
              " {'city': 'Changsha', 'temp': 72.32},\n",
              " {'city': 'Chongqing', 'temp': 73.04},\n",
              " {'city': 'Guangzhou', 'temp': 69.44},\n",
              " {'city': 'Shanghai', 'temp': 77.18},\n",
              " {'city': 'HongKong', 'temp': 78.62}]"
            ]
          },
          "metadata": {
            "tags": []
          },
          "execution_count": 22
        }
      ]
    },
    {
      "cell_type": "code",
      "metadata": {
        "id": "hpZzIHuHObjD",
        "outputId": "005962c4-7c3e-4040-c02d-c54e7b4e7bdf"
      },
      "source": [
        "# 函数式编程\n",
        "res3 = map(c_to_f, data)\n",
        "res3 = list(res3)\n",
        "res3"
      ],
      "execution_count": null,
      "outputs": [
        {
          "output_type": "execute_result",
          "data": {
            "text/plain": [
              "[{'city': 'Beijing', 'temp': 69.44},\n",
              " {'city': 'Changsha', 'temp': 72.32},\n",
              " {'city': 'Chongqing', 'temp': 73.04},\n",
              " {'city': 'Guangzhou', 'temp': 69.44},\n",
              " {'city': 'Shanghai', 'temp': 77.18},\n",
              " {'city': 'HongKong', 'temp': 78.62}]"
            ]
          },
          "metadata": {
            "tags": []
          },
          "execution_count": 23
        }
      ]
    },
    {
      "cell_type": "markdown",
      "metadata": {
        "id": "d2XBgfTqObjG"
      },
      "source": [
        "## Example 3"
      ]
    },
    {
      "cell_type": "code",
      "metadata": {
        "id": "miNl4MW5ObjH"
      },
      "source": [
        "data = [(1,5),(3,9),(2,4),(6,18)]"
      ],
      "execution_count": 2,
      "outputs": []
    },
    {
      "cell_type": "code",
      "metadata": {
        "id": "ooIFayIbObjK",
        "outputId": "d47e3e5e-980c-4970-8392-03925da24b06",
        "colab": {
          "base_uri": "https://localhost:8080/",
          "height": 34
        }
      },
      "source": [
        "# 求最大公约数\n",
        "def gcd(a,b):\n",
        "    r = a % b\n",
        "    while r != 0:\n",
        "        a = b\n",
        "        b = r\n",
        "        r = a % b\n",
        "    return b\n",
        "gcd(3,9)"
      ],
      "execution_count": 3,
      "outputs": [
        {
          "output_type": "execute_result",
          "data": {
            "text/plain": [
              "3"
            ]
          },
          "metadata": {
            "tags": []
          },
          "execution_count": 3
        }
      ]
    },
    {
      "cell_type": "code",
      "metadata": {
        "id": "Kz0ST_GYObjN",
        "outputId": "de0d20b6-291d-4024-c72f-1001eefeaed7",
        "colab": {
          "base_uri": "https://localhost:8080/",
          "height": 34
        }
      },
      "source": [
        "res1 = []\n",
        "for pair in data:\n",
        "    n1,n2 = pair[0],pair[1]\n",
        "    m = gcd(n1,n2)\n",
        "    res1.append((int(n1/m),int(n2/m)))\n",
        "    \n",
        "res1"
      ],
      "execution_count": 4,
      "outputs": [
        {
          "output_type": "execute_result",
          "data": {
            "text/plain": [
              "[(1, 5), (1, 3), (1, 2), (1, 3)]"
            ]
          },
          "metadata": {
            "tags": []
          },
          "execution_count": 4
        }
      ]
    },
    {
      "cell_type": "code",
      "metadata": {
        "id": "wliTgsaBObjR",
        "outputId": "7cbb5621-8719-4908-e06b-138f625498a1",
        "colab": {
          "base_uri": "https://localhost:8080/",
          "height": 34
        }
      },
      "source": [
        "def simplify(pair):\n",
        "    n1, n2 = pair[0],pair[1]\n",
        "    m = gcd(n1,n2)\n",
        "    return (int(n1/m),int(n2/m))\n",
        "\n",
        "res2 = [simplify(pair) for pair in data]\n",
        "res2"
      ],
      "execution_count": 5,
      "outputs": [
        {
          "output_type": "execute_result",
          "data": {
            "text/plain": [
              "[(1, 5), (1, 3), (1, 2), (1, 3)]"
            ]
          },
          "metadata": {
            "tags": []
          },
          "execution_count": 5
        }
      ]
    },
    {
      "cell_type": "code",
      "metadata": {
        "id": "Nn_-eLF0ObjU",
        "outputId": "c983e6ce-4347-41e0-b79c-d6bc08969ce9",
        "colab": {
          "base_uri": "https://localhost:8080/",
          "height": 34
        }
      },
      "source": [
        "# 函数式编程\n",
        "res3 = map(simplify,data)\n",
        "res3 = list(res3)\n",
        "\n",
        "res3"
      ],
      "execution_count": 6,
      "outputs": [
        {
          "output_type": "execute_result",
          "data": {
            "text/plain": [
              "[(1, 5), (1, 3), (1, 2), (1, 3)]"
            ]
          },
          "metadata": {
            "tags": []
          },
          "execution_count": 6
        }
      ]
    },
    {
      "cell_type": "markdown",
      "metadata": {
        "id": "VQWz3-NZObjX"
      },
      "source": [
        "### 计算时间"
      ]
    },
    {
      "cell_type": "code",
      "metadata": {
        "id": "VB9xyUbxObjY",
        "outputId": "bc58c66e-dd76-4992-8405-71d69bbe7cdf",
        "colab": {
          "base_uri": "https://localhost:8080/",
          "height": 50
        }
      },
      "source": [
        "%%time\n",
        "res1 = []\n",
        "for pair in data:\n",
        "    n1,n2 = pair[0],pair[1]\n",
        "    m = gcd(n1,n2)\n",
        "    res1.append((int(n1/m),int(n2/m)))"
      ],
      "execution_count": 7,
      "outputs": [
        {
          "output_type": "stream",
          "text": [
            "CPU times: user 9 µs, sys: 2 µs, total: 11 µs\n",
            "Wall time: 12.9 µs\n"
          ],
          "name": "stdout"
        }
      ]
    },
    {
      "cell_type": "code",
      "metadata": {
        "id": "QzabkMveObje",
        "outputId": "e870a197-4ff2-4d7c-a6b9-21b95ed4d2b1",
        "colab": {
          "base_uri": "https://localhost:8080/",
          "height": 50
        }
      },
      "source": [
        "%%time\n",
        "res2 = [simplify(pair) for pair in data]"
      ],
      "execution_count": 8,
      "outputs": [
        {
          "output_type": "stream",
          "text": [
            "CPU times: user 7 µs, sys: 2 µs, total: 9 µs\n",
            "Wall time: 12.2 µs\n"
          ],
          "name": "stdout"
        }
      ]
    },
    {
      "cell_type": "code",
      "metadata": {
        "id": "R051Oe52Objh",
        "outputId": "07815758-21bf-4194-9b20-37a3c3c42d93",
        "colab": {
          "base_uri": "https://localhost:8080/",
          "height": 50
        }
      },
      "source": [
        "%%time\n",
        "res3 = map(simplify,data)\n",
        "res3 = list(res3)"
      ],
      "execution_count": 9,
      "outputs": [
        {
          "output_type": "stream",
          "text": [
            "CPU times: user 8 µs, sys: 2 µs, total: 10 µs\n",
            "Wall time: 13.4 µs\n"
          ],
          "name": "stdout"
        }
      ]
    },
    {
      "cell_type": "markdown",
      "metadata": {
        "id": "Cs3PYUYeObjl"
      },
      "source": [
        "### 大量数据"
      ]
    },
    {
      "cell_type": "code",
      "metadata": {
        "id": "v0svk0tlObjl"
      },
      "source": [
        "import random\n",
        "data = [(random.randint(1,1000),random.randint(1,1000)) for _ in range(1000000)]"
      ],
      "execution_count": 26,
      "outputs": []
    },
    {
      "cell_type": "markdown",
      "metadata": {
        "id": "RsbndobpObjo"
      },
      "source": [
        "### 再次计算时间"
      ]
    },
    {
      "cell_type": "code",
      "metadata": {
        "id": "eXhDpE-mObjo",
        "outputId": "24b82521-70af-46df-fd2f-fd09852759ad",
        "colab": {
          "base_uri": "https://localhost:8080/",
          "height": 50
        }
      },
      "source": [
        "%%time\n",
        "res1 = []\n",
        "for pair in data:\n",
        "    n1,n2 = pair[0],pair[1]\n",
        "    m = gcd(n1,n2)\n",
        "    res1.append((int(n1/m),int(n2/m)))"
      ],
      "execution_count": 27,
      "outputs": [
        {
          "output_type": "stream",
          "text": [
            "CPU times: user 1.12 s, sys: 113 ms, total: 1.23 s\n",
            "Wall time: 1.23 s\n"
          ],
          "name": "stdout"
        }
      ]
    },
    {
      "cell_type": "code",
      "metadata": {
        "id": "h0mNW8OCObjs",
        "outputId": "eec258a6-5f9d-44d8-8e3e-42ec13b032bd",
        "colab": {
          "base_uri": "https://localhost:8080/",
          "height": 50
        }
      },
      "source": [
        "%%time\n",
        "res2 = [simplify(pair) for pair in data]"
      ],
      "execution_count": 28,
      "outputs": [
        {
          "output_type": "stream",
          "text": [
            "CPU times: user 904 ms, sys: 114 ms, total: 1.02 s\n",
            "Wall time: 1.02 s\n"
          ],
          "name": "stdout"
        }
      ]
    },
    {
      "cell_type": "code",
      "metadata": {
        "id": "egtY6xViObjw",
        "outputId": "7587665d-d78c-4d19-9627-2f7222f5b2c1",
        "colab": {
          "base_uri": "https://localhost:8080/",
          "height": 50
        }
      },
      "source": [
        "%%time\n",
        "res3 = map(simplify,data)\n",
        "res3 = list(res3)"
      ],
      "execution_count": 29,
      "outputs": [
        {
          "output_type": "stream",
          "text": [
            "CPU times: user 888 ms, sys: 117 ms, total: 1.01 s\n",
            "Wall time: 1 s\n"
          ],
          "name": "stdout"
        }
      ]
    },
    {
      "cell_type": "markdown",
      "metadata": {
        "id": "pGGTEgb0Objz"
      },
      "source": [
        "### 多进程"
      ]
    },
    {
      "cell_type": "code",
      "metadata": {
        "id": "rKdCVx7LObj0"
      },
      "source": [
        "from multiprocessing import Pool"
      ],
      "execution_count": 30,
      "outputs": []
    },
    {
      "cell_type": "code",
      "metadata": {
        "id": "kGSWVUipObj3"
      },
      "source": [
        "p = Pool(2)"
      ],
      "execution_count": 43,
      "outputs": []
    },
    {
      "cell_type": "code",
      "metadata": {
        "id": "OEzdl9VoObj6",
        "outputId": "8c7d1b90-a298-4db5-d5d1-07c5c43b9afa",
        "colab": {
          "base_uri": "https://localhost:8080/",
          "height": 50
        }
      },
      "source": [
        "%%time\n",
        "res4 = p.map(simplify, data)"
      ],
      "execution_count": 44,
      "outputs": [
        {
          "output_type": "stream",
          "text": [
            "CPU times: user 677 ms, sys: 212 ms, total: 889 ms\n",
            "Wall time: 1.89 s\n"
          ],
          "name": "stdout"
        }
      ]
    },
    {
      "cell_type": "code",
      "metadata": {
        "id": "f6QvbB3VObj8"
      },
      "source": [
        ""
      ],
      "execution_count": null,
      "outputs": []
    }
  ]
}